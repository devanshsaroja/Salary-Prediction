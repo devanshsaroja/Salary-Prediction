{
 "cells": [
  {
   "cell_type": "code",
   "execution_count": 4,
   "id": "26093c98",
   "metadata": {},
   "outputs": [
    {
     "name": "stdout",
     "output_type": "stream",
     "text": [
      "Model and scalers loaded successfully.\n",
      "Enter date in the format dd - 11\n",
      "Enter month in the format mm - 11\n",
      "Enter year in the format yyyy - 2000\n",
      "Predicted Salary: [60801.02743914]\n"
     ]
    }
   ],
   "source": [
    "import pickle\n",
    "import numpy as np\n",
    "\n",
    "\n",
    "# Load the pickled model and scalers\n",
    "with open('model.pkl', 'rb') as f:\n",
    "    model = pickle.load(f)\n",
    "\n",
    "with open('scaler_X.pkl', 'rb') as f:\n",
    "    scaler_X = pickle.load(f)\n",
    "\n",
    "with open('scaler_y.pkl', 'rb') as f:\n",
    "    scaler_y = pickle.load(f)\n",
    "\n",
    "print(\"Model and scalers loaded successfully.\")\n",
    "\n",
    "# Function to predict salary using the loaded model and scalers\n",
    "def conv(i_date, i_month, i_year):\n",
    "    # Use transform (not fit_transform) for prediction\n",
    "    X_pred = scaler_X.transform(np.array([[i_date, i_month, i_year]]))  # Correct scaling\n",
    "    \n",
    "    y_pred_scale = model.predict(X_pred)  # Make prediction\n",
    "    y_pred = scaler_y.inverse_transform(y_pred_scale.reshape(-1, 1)).flatten()  # Inverse scaling\n",
    "    \n",
    "    print(\"Predicted Salary:\", y_pred)\n",
    "\n",
    "# Get user input\n",
    "i_date = int(input(\"Enter date in the format dd - \"))\n",
    "i_month = int(input(\"Enter month in the format mm - \"))\n",
    "i_year = int(input(\"Enter year in the format yyyy - \"))\n",
    "\n",
    "# Call the function\n",
    "conv(i_date, i_month, i_year)\n"
   ]
  },
  {
   "cell_type": "code",
   "execution_count": null,
   "id": "088ed42d",
   "metadata": {},
   "outputs": [],
   "source": []
  }
 ],
 "metadata": {
  "kernelspec": {
   "display_name": "Python 3 (ipykernel)",
   "language": "python",
   "name": "python3"
  },
  "language_info": {
   "codemirror_mode": {
    "name": "ipython",
    "version": 3
   },
   "file_extension": ".py",
   "mimetype": "text/x-python",
   "name": "python",
   "nbconvert_exporter": "python",
   "pygments_lexer": "ipython3",
   "version": "3.11.4"
  }
 },
 "nbformat": 4,
 "nbformat_minor": 5
}
